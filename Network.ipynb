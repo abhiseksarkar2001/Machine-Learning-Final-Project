{
 "cells": [
  {
   "cell_type": "code",
   "execution_count": 248,
   "id": "dd611ee3-b035-4598-9e0f-f4864117e175",
   "metadata": {},
   "outputs": [],
   "source": [
    "import numpy as np\n",
    "import pandas as pd\n",
    "import networkx as nx\n",
    "from sklearn.cluster import KMeans\n",
    "from sklearn.metrics import accuracy_score\n",
    "from sklearn.model_selection import train_test_split\n",
    "from scipy.io import arff\n",
    "from sklearn.metrics.pairwise import cosine_similarity\n",
    "import matplotlib.pyplot as plt\n",
    "from sklearn.metrics import adjusted_rand_score, adjusted_mutual_info_score, silhouette_score"
   ]
  },
  {
   "cell_type": "code",
   "execution_count": 249,
   "id": "c4c0bcd2-d32d-46f0-acc5-4775474e905d",
   "metadata": {},
   "outputs": [],
   "source": [
    "# Step 1: Data Preparation\n",
    "# Read data from .arff files\n",
    "\n",
    "# Load training data\n",
    "data_train, meta_train = arff.loadarff(\"HouseTwenty_TRAIN.arff\")\n",
    "df_train = pd.DataFrame(data_train)\n"
   ]
  },
  {
   "cell_type": "code",
   "execution_count": 250,
   "id": "d033dfc1-d2bf-4a9e-a374-443942d18f9b",
   "metadata": {},
   "outputs": [
    {
     "data": {
      "text/html": [
       "<div>\n",
       "<style scoped>\n",
       "    .dataframe tbody tr th:only-of-type {\n",
       "        vertical-align: middle;\n",
       "    }\n",
       "\n",
       "    .dataframe tbody tr th {\n",
       "        vertical-align: top;\n",
       "    }\n",
       "\n",
       "    .dataframe thead th {\n",
       "        text-align: right;\n",
       "    }\n",
       "</style>\n",
       "<table border=\"1\" class=\"dataframe\">\n",
       "  <thead>\n",
       "    <tr style=\"text-align: right;\">\n",
       "      <th></th>\n",
       "      <th>att1</th>\n",
       "      <th>att2</th>\n",
       "      <th>att3</th>\n",
       "      <th>att4</th>\n",
       "      <th>att5</th>\n",
       "      <th>att6</th>\n",
       "      <th>att7</th>\n",
       "      <th>att8</th>\n",
       "      <th>att9</th>\n",
       "      <th>att10</th>\n",
       "      <th>...</th>\n",
       "      <th>att1992</th>\n",
       "      <th>att1993</th>\n",
       "      <th>att1994</th>\n",
       "      <th>att1995</th>\n",
       "      <th>att1996</th>\n",
       "      <th>att1997</th>\n",
       "      <th>att1998</th>\n",
       "      <th>att1999</th>\n",
       "      <th>att2000</th>\n",
       "      <th>target</th>\n",
       "    </tr>\n",
       "  </thead>\n",
       "  <tbody>\n",
       "    <tr>\n",
       "      <th>0</th>\n",
       "      <td>349.0</td>\n",
       "      <td>349.0</td>\n",
       "      <td>347.0</td>\n",
       "      <td>351.0</td>\n",
       "      <td>347.0</td>\n",
       "      <td>347.0</td>\n",
       "      <td>347.0</td>\n",
       "      <td>347.0</td>\n",
       "      <td>351.0</td>\n",
       "      <td>348.0</td>\n",
       "      <td>...</td>\n",
       "      <td>495.0</td>\n",
       "      <td>495.0</td>\n",
       "      <td>495.0</td>\n",
       "      <td>503.0</td>\n",
       "      <td>499.0</td>\n",
       "      <td>506.0</td>\n",
       "      <td>502.0</td>\n",
       "      <td>506.0</td>\n",
       "      <td>513.0</td>\n",
       "      <td>b'1'</td>\n",
       "    </tr>\n",
       "    <tr>\n",
       "      <th>1</th>\n",
       "      <td>199.0</td>\n",
       "      <td>200.0</td>\n",
       "      <td>200.0</td>\n",
       "      <td>200.0</td>\n",
       "      <td>197.0</td>\n",
       "      <td>202.0</td>\n",
       "      <td>199.0</td>\n",
       "      <td>198.0</td>\n",
       "      <td>198.0</td>\n",
       "      <td>200.0</td>\n",
       "      <td>...</td>\n",
       "      <td>627.0</td>\n",
       "      <td>632.0</td>\n",
       "      <td>643.0</td>\n",
       "      <td>628.0</td>\n",
       "      <td>629.0</td>\n",
       "      <td>649.0</td>\n",
       "      <td>637.0</td>\n",
       "      <td>635.0</td>\n",
       "      <td>635.0</td>\n",
       "      <td>b'1'</td>\n",
       "    </tr>\n",
       "    <tr>\n",
       "      <th>2</th>\n",
       "      <td>368.0</td>\n",
       "      <td>375.0</td>\n",
       "      <td>369.0</td>\n",
       "      <td>368.0</td>\n",
       "      <td>368.0</td>\n",
       "      <td>368.0</td>\n",
       "      <td>375.0</td>\n",
       "      <td>364.0</td>\n",
       "      <td>370.0</td>\n",
       "      <td>369.0</td>\n",
       "      <td>...</td>\n",
       "      <td>374.0</td>\n",
       "      <td>374.0</td>\n",
       "      <td>375.0</td>\n",
       "      <td>374.0</td>\n",
       "      <td>372.0</td>\n",
       "      <td>375.0</td>\n",
       "      <td>372.0</td>\n",
       "      <td>377.0</td>\n",
       "      <td>378.0</td>\n",
       "      <td>b'1'</td>\n",
       "    </tr>\n",
       "    <tr>\n",
       "      <th>3</th>\n",
       "      <td>391.0</td>\n",
       "      <td>391.0</td>\n",
       "      <td>398.0</td>\n",
       "      <td>398.0</td>\n",
       "      <td>398.0</td>\n",
       "      <td>385.0</td>\n",
       "      <td>385.0</td>\n",
       "      <td>383.0</td>\n",
       "      <td>383.0</td>\n",
       "      <td>383.0</td>\n",
       "      <td>...</td>\n",
       "      <td>366.0</td>\n",
       "      <td>354.0</td>\n",
       "      <td>354.0</td>\n",
       "      <td>352.0</td>\n",
       "      <td>352.0</td>\n",
       "      <td>354.0</td>\n",
       "      <td>349.0</td>\n",
       "      <td>351.0</td>\n",
       "      <td>351.0</td>\n",
       "      <td>b'1'</td>\n",
       "    </tr>\n",
       "    <tr>\n",
       "      <th>4</th>\n",
       "      <td>118.0</td>\n",
       "      <td>118.0</td>\n",
       "      <td>118.0</td>\n",
       "      <td>119.0</td>\n",
       "      <td>119.0</td>\n",
       "      <td>122.0</td>\n",
       "      <td>118.0</td>\n",
       "      <td>118.0</td>\n",
       "      <td>120.0</td>\n",
       "      <td>119.0</td>\n",
       "      <td>...</td>\n",
       "      <td>537.0</td>\n",
       "      <td>536.0</td>\n",
       "      <td>533.0</td>\n",
       "      <td>534.0</td>\n",
       "      <td>532.0</td>\n",
       "      <td>532.0</td>\n",
       "      <td>529.0</td>\n",
       "      <td>535.0</td>\n",
       "      <td>527.0</td>\n",
       "      <td>b'1'</td>\n",
       "    </tr>\n",
       "  </tbody>\n",
       "</table>\n",
       "<p>5 rows × 2001 columns</p>\n",
       "</div>"
      ],
      "text/plain": [
       "    att1   att2   att3   att4   att5   att6   att7   att8   att9  att10  ...  \\\n",
       "0  349.0  349.0  347.0  351.0  347.0  347.0  347.0  347.0  351.0  348.0  ...   \n",
       "1  199.0  200.0  200.0  200.0  197.0  202.0  199.0  198.0  198.0  200.0  ...   \n",
       "2  368.0  375.0  369.0  368.0  368.0  368.0  375.0  364.0  370.0  369.0  ...   \n",
       "3  391.0  391.0  398.0  398.0  398.0  385.0  385.0  383.0  383.0  383.0  ...   \n",
       "4  118.0  118.0  118.0  119.0  119.0  122.0  118.0  118.0  120.0  119.0  ...   \n",
       "\n",
       "   att1992  att1993  att1994  att1995  att1996  att1997  att1998  att1999  \\\n",
       "0    495.0    495.0    495.0    503.0    499.0    506.0    502.0    506.0   \n",
       "1    627.0    632.0    643.0    628.0    629.0    649.0    637.0    635.0   \n",
       "2    374.0    374.0    375.0    374.0    372.0    375.0    372.0    377.0   \n",
       "3    366.0    354.0    354.0    352.0    352.0    354.0    349.0    351.0   \n",
       "4    537.0    536.0    533.0    534.0    532.0    532.0    529.0    535.0   \n",
       "\n",
       "   att2000  target  \n",
       "0    513.0    b'1'  \n",
       "1    635.0    b'1'  \n",
       "2    378.0    b'1'  \n",
       "3    351.0    b'1'  \n",
       "4    527.0    b'1'  \n",
       "\n",
       "[5 rows x 2001 columns]"
      ]
     },
     "execution_count": 250,
     "metadata": {},
     "output_type": "execute_result"
    }
   ],
   "source": [
    "df_train.head()\n"
   ]
  },
  {
   "cell_type": "code",
   "execution_count": null,
   "id": "e37a29f8-ddfe-4291-b857-7413020b4ac8",
   "metadata": {},
   "outputs": [],
   "source": []
  },
  {
   "cell_type": "code",
   "execution_count": 251,
   "id": "afc6d3e0-e385-4043-8338-1b3d0aa6685c",
   "metadata": {},
   "outputs": [],
   "source": [
    "# Load test data\n",
    "data_test, meta_test = arff.loadarff(\"HouseTwenty_TEST.arff\")\n",
    "df_test = pd.DataFrame(data_test)\n"
   ]
  },
  {
   "cell_type": "code",
   "execution_count": 6,
   "id": "f80b6e30-b55e-453f-acb0-f452b605af2a",
   "metadata": {},
   "outputs": [
    {
     "data": {
      "text/html": [
       "<div>\n",
       "<style scoped>\n",
       "    .dataframe tbody tr th:only-of-type {\n",
       "        vertical-align: middle;\n",
       "    }\n",
       "\n",
       "    .dataframe tbody tr th {\n",
       "        vertical-align: top;\n",
       "    }\n",
       "\n",
       "    .dataframe thead th {\n",
       "        text-align: right;\n",
       "    }\n",
       "</style>\n",
       "<table border=\"1\" class=\"dataframe\">\n",
       "  <thead>\n",
       "    <tr style=\"text-align: right;\">\n",
       "      <th></th>\n",
       "      <th>att1</th>\n",
       "      <th>att2</th>\n",
       "      <th>att3</th>\n",
       "      <th>att4</th>\n",
       "      <th>att5</th>\n",
       "      <th>att6</th>\n",
       "      <th>att7</th>\n",
       "      <th>att8</th>\n",
       "      <th>att9</th>\n",
       "      <th>att10</th>\n",
       "      <th>...</th>\n",
       "      <th>att1992</th>\n",
       "      <th>att1993</th>\n",
       "      <th>att1994</th>\n",
       "      <th>att1995</th>\n",
       "      <th>att1996</th>\n",
       "      <th>att1997</th>\n",
       "      <th>att1998</th>\n",
       "      <th>att1999</th>\n",
       "      <th>att2000</th>\n",
       "      <th>target</th>\n",
       "    </tr>\n",
       "  </thead>\n",
       "  <tbody>\n",
       "    <tr>\n",
       "      <th>0</th>\n",
       "      <td>117.0</td>\n",
       "      <td>117.0</td>\n",
       "      <td>117.0</td>\n",
       "      <td>117.0</td>\n",
       "      <td>117.0</td>\n",
       "      <td>117.0</td>\n",
       "      <td>117.0</td>\n",
       "      <td>115.0</td>\n",
       "      <td>115.0</td>\n",
       "      <td>116.0</td>\n",
       "      <td>...</td>\n",
       "      <td>235.0</td>\n",
       "      <td>235.0</td>\n",
       "      <td>231.0</td>\n",
       "      <td>229.0</td>\n",
       "      <td>231.0</td>\n",
       "      <td>231.0</td>\n",
       "      <td>228.0</td>\n",
       "      <td>228.0</td>\n",
       "      <td>233.0</td>\n",
       "      <td>b'1'</td>\n",
       "    </tr>\n",
       "    <tr>\n",
       "      <th>1</th>\n",
       "      <td>357.0</td>\n",
       "      <td>357.0</td>\n",
       "      <td>357.0</td>\n",
       "      <td>357.0</td>\n",
       "      <td>356.0</td>\n",
       "      <td>356.0</td>\n",
       "      <td>358.0</td>\n",
       "      <td>358.0</td>\n",
       "      <td>358.0</td>\n",
       "      <td>358.0</td>\n",
       "      <td>...</td>\n",
       "      <td>306.0</td>\n",
       "      <td>312.0</td>\n",
       "      <td>312.0</td>\n",
       "      <td>303.0</td>\n",
       "      <td>303.0</td>\n",
       "      <td>308.0</td>\n",
       "      <td>306.0</td>\n",
       "      <td>306.0</td>\n",
       "      <td>308.0</td>\n",
       "      <td>b'1'</td>\n",
       "    </tr>\n",
       "    <tr>\n",
       "      <th>2</th>\n",
       "      <td>354.0</td>\n",
       "      <td>354.0</td>\n",
       "      <td>354.0</td>\n",
       "      <td>352.0</td>\n",
       "      <td>356.0</td>\n",
       "      <td>356.0</td>\n",
       "      <td>357.0</td>\n",
       "      <td>357.0</td>\n",
       "      <td>356.0</td>\n",
       "      <td>354.0</td>\n",
       "      <td>...</td>\n",
       "      <td>363.0</td>\n",
       "      <td>363.0</td>\n",
       "      <td>361.0</td>\n",
       "      <td>361.0</td>\n",
       "      <td>363.0</td>\n",
       "      <td>363.0</td>\n",
       "      <td>372.0</td>\n",
       "      <td>370.0</td>\n",
       "      <td>370.0</td>\n",
       "      <td>b'1'</td>\n",
       "    </tr>\n",
       "    <tr>\n",
       "      <th>3</th>\n",
       "      <td>365.0</td>\n",
       "      <td>367.0</td>\n",
       "      <td>365.0</td>\n",
       "      <td>367.0</td>\n",
       "      <td>363.0</td>\n",
       "      <td>365.0</td>\n",
       "      <td>369.0</td>\n",
       "      <td>370.0</td>\n",
       "      <td>370.0</td>\n",
       "      <td>365.0</td>\n",
       "      <td>...</td>\n",
       "      <td>528.0</td>\n",
       "      <td>530.0</td>\n",
       "      <td>528.0</td>\n",
       "      <td>528.0</td>\n",
       "      <td>528.0</td>\n",
       "      <td>545.0</td>\n",
       "      <td>539.0</td>\n",
       "      <td>545.0</td>\n",
       "      <td>539.0</td>\n",
       "      <td>b'1'</td>\n",
       "    </tr>\n",
       "    <tr>\n",
       "      <th>4</th>\n",
       "      <td>368.0</td>\n",
       "      <td>363.0</td>\n",
       "      <td>361.0</td>\n",
       "      <td>361.0</td>\n",
       "      <td>368.0</td>\n",
       "      <td>361.0</td>\n",
       "      <td>368.0</td>\n",
       "      <td>363.0</td>\n",
       "      <td>363.0</td>\n",
       "      <td>363.0</td>\n",
       "      <td>...</td>\n",
       "      <td>499.0</td>\n",
       "      <td>499.0</td>\n",
       "      <td>498.0</td>\n",
       "      <td>499.0</td>\n",
       "      <td>499.0</td>\n",
       "      <td>506.0</td>\n",
       "      <td>506.0</td>\n",
       "      <td>500.0</td>\n",
       "      <td>498.0</td>\n",
       "      <td>b'1'</td>\n",
       "    </tr>\n",
       "  </tbody>\n",
       "</table>\n",
       "<p>5 rows × 2001 columns</p>\n",
       "</div>"
      ],
      "text/plain": [
       "    att1   att2   att3   att4   att5   att6   att7   att8   att9  att10  ...  \\\n",
       "0  117.0  117.0  117.0  117.0  117.0  117.0  117.0  115.0  115.0  116.0  ...   \n",
       "1  357.0  357.0  357.0  357.0  356.0  356.0  358.0  358.0  358.0  358.0  ...   \n",
       "2  354.0  354.0  354.0  352.0  356.0  356.0  357.0  357.0  356.0  354.0  ...   \n",
       "3  365.0  367.0  365.0  367.0  363.0  365.0  369.0  370.0  370.0  365.0  ...   \n",
       "4  368.0  363.0  361.0  361.0  368.0  361.0  368.0  363.0  363.0  363.0  ...   \n",
       "\n",
       "   att1992  att1993  att1994  att1995  att1996  att1997  att1998  att1999  \\\n",
       "0    235.0    235.0    231.0    229.0    231.0    231.0    228.0    228.0   \n",
       "1    306.0    312.0    312.0    303.0    303.0    308.0    306.0    306.0   \n",
       "2    363.0    363.0    361.0    361.0    363.0    363.0    372.0    370.0   \n",
       "3    528.0    530.0    528.0    528.0    528.0    545.0    539.0    545.0   \n",
       "4    499.0    499.0    498.0    499.0    499.0    506.0    506.0    500.0   \n",
       "\n",
       "   att2000  target  \n",
       "0    233.0    b'1'  \n",
       "1    308.0    b'1'  \n",
       "2    370.0    b'1'  \n",
       "3    539.0    b'1'  \n",
       "4    498.0    b'1'  \n",
       "\n",
       "[5 rows x 2001 columns]"
      ]
     },
     "execution_count": 6,
     "metadata": {},
     "output_type": "execute_result"
    }
   ],
   "source": [
    "df_test.head()"
   ]
  },
  {
   "cell_type": "code",
   "execution_count": 252,
   "id": "db947dc1-aba9-43f6-8cc3-572c384fb0e6",
   "metadata": {},
   "outputs": [
    {
     "data": {
      "text/plain": [
       "((40, 2001), (119, 2001))"
      ]
     },
     "execution_count": 252,
     "metadata": {},
     "output_type": "execute_result"
    }
   ],
   "source": [
    "df_train.shape,df_test.shape"
   ]
  },
  {
   "cell_type": "code",
   "execution_count": 253,
   "id": "e5a16af4-2310-43c4-ba2d-5fdb6bb636d7",
   "metadata": {},
   "outputs": [],
   "source": [
    "# Convert class labels to integers\n",
    "df_train['target'] = df_train['target'].astype(int)\n",
    "df_test['target'] = df_test['target'].astype(int)\n"
   ]
  },
  {
   "cell_type": "code",
   "execution_count": 13,
   "id": "b066f813-866f-4501-a75c-a256d50074a3",
   "metadata": {},
   "outputs": [
    {
     "data": {
      "text/html": [
       "<div>\n",
       "<style scoped>\n",
       "    .dataframe tbody tr th:only-of-type {\n",
       "        vertical-align: middle;\n",
       "    }\n",
       "\n",
       "    .dataframe tbody tr th {\n",
       "        vertical-align: top;\n",
       "    }\n",
       "\n",
       "    .dataframe thead th {\n",
       "        text-align: right;\n",
       "    }\n",
       "</style>\n",
       "<table border=\"1\" class=\"dataframe\">\n",
       "  <thead>\n",
       "    <tr style=\"text-align: right;\">\n",
       "      <th></th>\n",
       "      <th>att1</th>\n",
       "      <th>att2</th>\n",
       "      <th>att3</th>\n",
       "      <th>att4</th>\n",
       "      <th>att5</th>\n",
       "      <th>att6</th>\n",
       "      <th>att7</th>\n",
       "      <th>att8</th>\n",
       "      <th>att9</th>\n",
       "      <th>att10</th>\n",
       "      <th>...</th>\n",
       "      <th>att1992</th>\n",
       "      <th>att1993</th>\n",
       "      <th>att1994</th>\n",
       "      <th>att1995</th>\n",
       "      <th>att1996</th>\n",
       "      <th>att1997</th>\n",
       "      <th>att1998</th>\n",
       "      <th>att1999</th>\n",
       "      <th>att2000</th>\n",
       "      <th>target</th>\n",
       "    </tr>\n",
       "  </thead>\n",
       "  <tbody>\n",
       "    <tr>\n",
       "      <th>35</th>\n",
       "      <td>623.0</td>\n",
       "      <td>625.0</td>\n",
       "      <td>625.0</td>\n",
       "      <td>625.0</td>\n",
       "      <td>634.0</td>\n",
       "      <td>621.0</td>\n",
       "      <td>612.0</td>\n",
       "      <td>612.0</td>\n",
       "      <td>623.0</td>\n",
       "      <td>609.0</td>\n",
       "      <td>...</td>\n",
       "      <td>2207.0</td>\n",
       "      <td>2207.0</td>\n",
       "      <td>2248.0</td>\n",
       "      <td>2199.0</td>\n",
       "      <td>731.0</td>\n",
       "      <td>731.0</td>\n",
       "      <td>2206.0</td>\n",
       "      <td>2252.0</td>\n",
       "      <td>731.0</td>\n",
       "      <td>2</td>\n",
       "    </tr>\n",
       "    <tr>\n",
       "      <th>36</th>\n",
       "      <td>382.0</td>\n",
       "      <td>222.0</td>\n",
       "      <td>352.0</td>\n",
       "      <td>352.0</td>\n",
       "      <td>222.0</td>\n",
       "      <td>357.0</td>\n",
       "      <td>357.0</td>\n",
       "      <td>357.0</td>\n",
       "      <td>517.0</td>\n",
       "      <td>511.0</td>\n",
       "      <td>...</td>\n",
       "      <td>1103.0</td>\n",
       "      <td>1100.0</td>\n",
       "      <td>1100.0</td>\n",
       "      <td>1100.0</td>\n",
       "      <td>1104.0</td>\n",
       "      <td>1105.0</td>\n",
       "      <td>1104.0</td>\n",
       "      <td>1105.0</td>\n",
       "      <td>1113.0</td>\n",
       "      <td>2</td>\n",
       "    </tr>\n",
       "    <tr>\n",
       "      <th>37</th>\n",
       "      <td>120.0</td>\n",
       "      <td>120.0</td>\n",
       "      <td>120.0</td>\n",
       "      <td>117.0</td>\n",
       "      <td>118.0</td>\n",
       "      <td>118.0</td>\n",
       "      <td>118.0</td>\n",
       "      <td>117.0</td>\n",
       "      <td>118.0</td>\n",
       "      <td>117.0</td>\n",
       "      <td>...</td>\n",
       "      <td>117.0</td>\n",
       "      <td>117.0</td>\n",
       "      <td>117.0</td>\n",
       "      <td>118.0</td>\n",
       "      <td>116.0</td>\n",
       "      <td>116.0</td>\n",
       "      <td>117.0</td>\n",
       "      <td>117.0</td>\n",
       "      <td>117.0</td>\n",
       "      <td>2</td>\n",
       "    </tr>\n",
       "    <tr>\n",
       "      <th>38</th>\n",
       "      <td>116.0</td>\n",
       "      <td>116.0</td>\n",
       "      <td>117.0</td>\n",
       "      <td>117.0</td>\n",
       "      <td>117.0</td>\n",
       "      <td>117.0</td>\n",
       "      <td>116.0</td>\n",
       "      <td>116.0</td>\n",
       "      <td>116.0</td>\n",
       "      <td>116.0</td>\n",
       "      <td>...</td>\n",
       "      <td>360.0</td>\n",
       "      <td>359.0</td>\n",
       "      <td>359.0</td>\n",
       "      <td>356.0</td>\n",
       "      <td>356.0</td>\n",
       "      <td>1733.0</td>\n",
       "      <td>1733.0</td>\n",
       "      <td>1710.0</td>\n",
       "      <td>1710.0</td>\n",
       "      <td>2</td>\n",
       "    </tr>\n",
       "    <tr>\n",
       "      <th>39</th>\n",
       "      <td>124.0</td>\n",
       "      <td>124.0</td>\n",
       "      <td>124.0</td>\n",
       "      <td>124.0</td>\n",
       "      <td>124.0</td>\n",
       "      <td>145.0</td>\n",
       "      <td>131.0</td>\n",
       "      <td>131.0</td>\n",
       "      <td>130.0</td>\n",
       "      <td>132.0</td>\n",
       "      <td>...</td>\n",
       "      <td>3767.0</td>\n",
       "      <td>3874.0</td>\n",
       "      <td>3863.0</td>\n",
       "      <td>3786.0</td>\n",
       "      <td>3814.0</td>\n",
       "      <td>3917.0</td>\n",
       "      <td>3790.0</td>\n",
       "      <td>3846.0</td>\n",
       "      <td>3881.0</td>\n",
       "      <td>2</td>\n",
       "    </tr>\n",
       "  </tbody>\n",
       "</table>\n",
       "<p>5 rows × 2001 columns</p>\n",
       "</div>"
      ],
      "text/plain": [
       "     att1   att2   att3   att4   att5   att6   att7   att8   att9  att10  ...  \\\n",
       "35  623.0  625.0  625.0  625.0  634.0  621.0  612.0  612.0  623.0  609.0  ...   \n",
       "36  382.0  222.0  352.0  352.0  222.0  357.0  357.0  357.0  517.0  511.0  ...   \n",
       "37  120.0  120.0  120.0  117.0  118.0  118.0  118.0  117.0  118.0  117.0  ...   \n",
       "38  116.0  116.0  117.0  117.0  117.0  117.0  116.0  116.0  116.0  116.0  ...   \n",
       "39  124.0  124.0  124.0  124.0  124.0  145.0  131.0  131.0  130.0  132.0  ...   \n",
       "\n",
       "    att1992  att1993  att1994  att1995  att1996  att1997  att1998  att1999  \\\n",
       "35   2207.0   2207.0   2248.0   2199.0    731.0    731.0   2206.0   2252.0   \n",
       "36   1103.0   1100.0   1100.0   1100.0   1104.0   1105.0   1104.0   1105.0   \n",
       "37    117.0    117.0    117.0    118.0    116.0    116.0    117.0    117.0   \n",
       "38    360.0    359.0    359.0    356.0    356.0   1733.0   1733.0   1710.0   \n",
       "39   3767.0   3874.0   3863.0   3786.0   3814.0   3917.0   3790.0   3846.0   \n",
       "\n",
       "    att2000  target  \n",
       "35    731.0       2  \n",
       "36   1113.0       2  \n",
       "37    117.0       2  \n",
       "38   1710.0       2  \n",
       "39   3881.0       2  \n",
       "\n",
       "[5 rows x 2001 columns]"
      ]
     },
     "execution_count": 13,
     "metadata": {},
     "output_type": "execute_result"
    }
   ],
   "source": [
    "df_train.tail()"
   ]
  },
  {
   "cell_type": "code",
   "execution_count": 254,
   "id": "db178281-a887-407c-9677-6e9918367c66",
   "metadata": {},
   "outputs": [],
   "source": [
    "# Separate features and labels\n",
    "X_train, y_train = df_train.drop(columns=['target']).values, df_train['target'].values\n",
    "X_test, y_test = df_test.drop(columns=['target']).values, df_test['target'].values"
   ]
  },
  {
   "cell_type": "code",
   "execution_count": 15,
   "id": "1200a612-eca9-439e-9a85-163094dcc830",
   "metadata": {},
   "outputs": [
    {
     "data": {
      "text/plain": [
       "((40, 2000), (119, 2000))"
      ]
     },
     "execution_count": 15,
     "metadata": {},
     "output_type": "execute_result"
    }
   ],
   "source": [
    "X_train.shape,X_test.shape"
   ]
  },
  {
   "cell_type": "code",
   "execution_count": 16,
   "id": "bea43d61-a0ec-4d63-a1ba-161bfd1b6c88",
   "metadata": {},
   "outputs": [
    {
     "data": {
      "text/plain": [
       "((40,), (119,))"
      ]
     },
     "execution_count": 16,
     "metadata": {},
     "output_type": "execute_result"
    }
   ],
   "source": [
    "y_train.shape,y_test.shape"
   ]
  },
  {
   "cell_type": "code",
   "execution_count": 255,
   "id": "5b1c5ede-6543-428c-96f2-50a100a5530c",
   "metadata": {},
   "outputs": [],
   "source": [
    "# Concatenate training and test data\n",
    "X = np.concatenate((X_train, X_test), axis=0)\n",
    "y = np.concatenate((y_train, y_test), axis=0)"
   ]
  },
  {
   "cell_type": "code",
   "execution_count": 18,
   "id": "9c29ad89-f9b0-4ccd-851e-4e23e65d220d",
   "metadata": {},
   "outputs": [
    {
     "data": {
      "text/plain": [
       "((159, 2000), (159,))"
      ]
     },
     "execution_count": 18,
     "metadata": {},
     "output_type": "execute_result"
    }
   ],
   "source": [
    "X.shape,y.shape"
   ]
  },
  {
   "cell_type": "code",
   "execution_count": 256,
   "id": "7c460331-6cc5-437d-99af-d38a745d0f8f",
   "metadata": {},
   "outputs": [],
   "source": [
    "from sklearn.metrics.pairwise import cosine_similarity"
   ]
  },
  {
   "cell_type": "code",
   "execution_count": 257,
   "id": "c17b99ab-5689-4dd4-9367-fa3321b9e19f",
   "metadata": {},
   "outputs": [],
   "source": [
    "# Step 2: Network Construction\n",
    "# Compute similarity matrix\n",
    "similarity_matrix = cosine_similarity(X)"
   ]
  },
  {
   "cell_type": "code",
   "execution_count": 258,
   "id": "c1358d19-d27a-44ae-a28c-b39b9e82ced9",
   "metadata": {},
   "outputs": [],
   "source": [
    "# Convert similarity matrix to a graph\n",
    "G = nx.Graph()"
   ]
  },
  {
   "cell_type": "code",
   "execution_count": 259,
   "id": "69db12b9-f7a0-48a1-8b96-cadf110fdd0b",
   "metadata": {},
   "outputs": [],
   "source": [
    "# Add nodes to the graph\n",
    "num_nodes = len(X)\n",
    "for i in range(num_nodes):\n",
    "    G.add_node(i)"
   ]
  },
  {
   "cell_type": "code",
   "execution_count": 260,
   "id": "839d38f9-f85a-4302-b596-195192824255",
   "metadata": {},
   "outputs": [],
   "source": [
    "# Add edges to the graph based on similarity threshold\n",
    "sim_threshold = 0.7  # Adjust this threshold as needed\n",
    "for i in range(num_nodes):\n",
    "    for j in range(i+1, num_nodes):\n",
    "        if similarity_matrix[i, j] >= sim_threshold:\n",
    "            G.add_edge(i, j)"
   ]
  },
  {
   "cell_type": "code",
   "execution_count": 170,
   "id": "4cf91946-474e-424b-a43b-9d79c0292062",
   "metadata": {},
   "outputs": [],
   "source": [
    "# Now, G is a NetworkX graph representing the network constructed from this data"
   ]
  },
  {
   "cell_type": "code",
   "execution_count": 278,
   "id": "0b4a0965-e9e4-4c45-b16f-01c4e1a09f6e",
   "metadata": {},
   "outputs": [
    {
     "data": {
      "image/png": "[encoded data removed]",
      "text/plain": [
       "<Figure size 600x500 with 1 Axes>"
      ]
     },
     "metadata": {},
     "output_type": "display_data"
    }
   ],
   "source": [
    "# Step 3: Visualization\n",
    "# Draw the graph\n",
    "plt.figure(figsize=(6, 5))\n",
    "pos = nx.spring_layout(G)  # Position nodes using the spring layout algorithm\n",
    "nx.draw(G, pos, with_labels=True, node_color='skyblue', node_size=100, edge_color='black', linewidths=1, font_size=5)\n",
    "# Add a title\n",
    "plt.title(\"Network Visualization\")\n",
    "plt.savefig('Network')\n",
    "# Show the plot\n",
    "plt.show()\n"
   ]
  },
  {
   "cell_type": "code",
   "execution_count": 276,
   "id": "ce65e727-42ae-481b-90a2-ea487606b061",
   "metadata": {},
   "outputs": [
    {
     "data": {
      "text/plain": [
       "<Figure size 640x480 with 0 Axes>"
      ]
     },
     "metadata": {},
     "output_type": "display_data"
    }
   ],
   "source": []
  },
  {
   "cell_type": "code",
   "execution_count": 39,
   "id": "3472b89a-edf5-4baa-8859-5608535c596c",
   "metadata": {},
   "outputs": [
    {
     "data": {
      "text/plain": [
       "'Step 3: Network Analysis'"
      ]
     },
     "execution_count": 39,
     "metadata": {},
     "output_type": "execute_result"
    }
   ],
   "source": [
    "'Step 3: Network Analysis'"
   ]
  },
  {
   "cell_type": "code",
   "execution_count": 284,
   "id": "8b97fa7a-1da0-4e4f-8d61-c41520a259db",
   "metadata": {},
   "outputs": [
    {
     "data": {
      "image/png": "[encoded data removed]",
      "text/plain": [
       "<Figure size 800x600 with 1 Axes>"
      ]
     },
     "metadata": {},
     "output_type": "display_data"
    }
   ],
   "source": [
    "# 1. Degree Distribution\n",
    "degree_sequence = sorted([d for n, d in G.degree()], reverse=True)\n",
    "plt.figure(figsize=(8, 6))\n",
    "plt.hist(degree_sequence, bins=20, color='skyblue', edgecolor='black')\n",
    "plt.title(\"Degree Distribution\")\n",
    "plt.xlabel(\"Degree\")\n",
    "plt.ylabel(\"Frequency\")\n",
    "plt.savefig('DegreeDist')\n",
    "plt.show()"
   ]
  },
  {
   "cell_type": "code",
   "execution_count": 263,
   "id": "510b7ce2-ac99-4c75-abdb-c62a23e9c087",
   "metadata": {},
   "outputs": [
    {
     "name": "stdout",
     "output_type": "stream",
     "text": [
      "Top 10 central nodes: [136, 147, 150, 22, 27, 36, 137, 122, 129, 139]\n"
     ]
    }
   ],
   "source": [
    "# Centrality measures\n",
    "centrality = nx.degree_centrality(G)\n",
    "central_nodes = sorted(centrality, key=centrality.get, reverse=True)[:10]  # Top 10 central nodes\n",
    "print(\"Top 10 central nodes:\", central_nodes)"
   ]
  },
  {
   "cell_type": "code",
   "execution_count": 264,
   "id": "f46b0079-d861-425c-9c05-f7bb2a7d9b96",
   "metadata": {},
   "outputs": [
    {
     "name": "stdout",
     "output_type": "stream",
     "text": [
      "Average Clustering Coefficient: 0.3859396366442053\n"
     ]
    }
   ],
   "source": [
    "# 3. Clustering Coefficient\n",
    "clustering_coefficient = nx.average_clustering(G)\n",
    "print(\"Average Clustering Coefficient:\", clustering_coefficient)"
   ]
  },
  {
   "cell_type": "code",
   "execution_count": 265,
   "id": "6d800a5d-9844-46a2-939d-8ed860391c24",
   "metadata": {},
   "outputs": [
    {
     "name": "stdout",
     "output_type": "stream",
     "text": [
      "Connected Components: [{0, 2, 3, 5, 7, 8, 9, 10, 14, 15, 17, 18, 20, 21, 22, 23, 24, 25, 26, 27, 28, 29, 30, 31, 32, 34, 35, 36, 37, 38, 39, 43, 49, 50, 51, 57, 60, 61, 64, 65, 69, 72, 75, 76, 77, 78, 80, 82, 86, 90, 93, 95, 96, 97, 99, 100, 102, 104, 105, 107, 109, 110, 111, 112, 113, 114, 115, 116, 117, 118, 119, 120, 121, 122, 124, 125, 126, 127, 128, 129, 130, 131, 133, 134, 135, 136, 137, 138, 139, 141, 142, 143, 144, 145, 146, 147, 148, 149, 150, 151, 152, 153, 154, 155, 156, 157, 158}, {1}, {4}, {6}, {11}, {33, 103, 88, 41, 74, 123, 12, 140, 16, 48, 19, 84, 56, 89, 91, 94}, {13}, {40}, {42}, {44}, {45}, {46}, {47}, {52}, {53}, {54}, {55}, {58}, {59}, {62}, {63}, {66}, {67}, {68}, {70}, {71}, {73}, {79}, {81}, {83}, {85}, {87}, {92}, {98}, {101}, {106}, {108}, {132}]\n"
     ]
    }
   ],
   "source": [
    "# 4. Connected Components\n",
    "connected_components = nx.connected_components(G)\n",
    "print(\"Connected Components:\", list(connected_components))"
   ]
  },
  {
   "cell_type": "code",
   "execution_count": 268,
   "id": "41844f8c-2595-4bfc-8fbd-d92d7aec6f78",
   "metadata": {},
   "outputs": [
    {
     "name": "stdout",
     "output_type": "stream",
     "text": [
      "Number of Connected Components: 38\n"
     ]
    }
   ],
   "source": [
    "# 4. Number of Connected Components\n",
    "num_connected_components = nx.number_connected_components(G)\n",
    "print(\"Number of Connected Components:\", num_connected_components)"
   ]
  },
  {
   "cell_type": "code",
   "execution_count": 267,
   "id": "b8b61eb9-5f3c-4a78-acde-bf0065418212",
   "metadata": {},
   "outputs": [
    {
     "name": "stdout",
     "output_type": "stream",
     "text": [
      "Communities: [frozenset({0, 128, 2, 3, 5, 9, 138, 139, 145, 147, 20, 149, 22, 23, 152, 153, 150, 151, 25, 155, 28, 157, 29, 30, 158, 32, 34, 36, 38, 50, 60, 61, 65, 76, 77, 90, 95, 96, 100, 107, 110, 112, 119, 120, 127}), frozenset({129, 133, 7, 8, 136, 10, 137, 141, 14, 142, 146, 24, 26, 27, 156, 37, 39, 43, 57, 69, 82, 86, 97, 102, 105, 109, 111, 114, 115, 117, 121, 122}), frozenset({74, 12, 140, 16, 19, 84, 88, 89, 91, 94, 33, 103, 41, 48, 56, 123}), frozenset({130, 131, 134, 135, 72, 78, 143, 144, 21, 154, 31, 35, 104, 113, 116, 125}), frozenset({64, 99, 75, 15, 80, 17, 18, 49, 51, 148, 118}), frozenset({124, 93, 126}), frozenset({1}), frozenset({4}), frozenset({6}), frozenset({11}), frozenset({13}), frozenset({40}), frozenset({42}), frozenset({44}), frozenset({45}), frozenset({46}), frozenset({47}), frozenset({52}), frozenset({53}), frozenset({54}), frozenset({55}), frozenset({58}), frozenset({59}), frozenset({62}), frozenset({63}), frozenset({66}), frozenset({67}), frozenset({68}), frozenset({70}), frozenset({71}), frozenset({73}), frozenset({79}), frozenset({81}), frozenset({83}), frozenset({85}), frozenset({87}), frozenset({92}), frozenset({98}), frozenset({101}), frozenset({106}), frozenset({108}), frozenset({132})]\n"
     ]
    }
   ],
   "source": [
    "# 5. Community Detection\n",
    "communities = nx.algorithms.community.modularity_max.greedy_modularity_communities(G)\n",
    "print(\"Communities:\", communities)"
   ]
  },
  {
   "cell_type": "code",
   "execution_count": 50,
   "id": "b280c764-9a32-468b-9ac3-85165a1b9013",
   "metadata": {},
   "outputs": [
    {
     "data": {
      "text/plain": [
       "'Step 4: Clustering the Data'"
      ]
     },
     "execution_count": 50,
     "metadata": {},
     "output_type": "execute_result"
    }
   ],
   "source": [
    "'Step 4: Clustering the Data'"
   ]
  },
  {
   "cell_type": "code",
   "execution_count": 269,
   "id": "546b6edd-5598-4514-ab76-4530afdc461c",
   "metadata": {},
   "outputs": [
    {
     "name": "stderr",
     "output_type": "stream",
     "text": [
      "C:\\Users\\Narayan Biswas\\anaconda3\\envs\\tensoeflow\\lib\\site-packages\\sklearn\\cluster\\_kmeans.py:1446: UserWarning: KMeans is known to have a memory leak on Windows with MKL, when there are less chunks than available threads. You can avoid it by setting the environment variable OMP_NUM_THREADS=1.\n",
      "  warnings.warn(\n"
     ]
    }
   ],
   "source": [
    "# K-means clustering\n",
    "k = len(np.unique(y))  # Number of clusters = number of classes\n",
    "kmeans = KMeans(n_clusters=k)\n",
    "clusters = kmeans.fit_predict(X)\n"
   ]
  },
  {
   "cell_type": "code",
   "execution_count": 270,
   "id": "f1c6d3bb-2797-4367-9515-bed980bd6c49",
   "metadata": {},
   "outputs": [
    {
     "data": {
      "image/png": "[encoded data removed]",
      "text/plain": [
       "<Figure size 800x600 with 1 Axes>"
      ]
     },
     "metadata": {},
     "output_type": "display_data"
    }
   ],
   "source": [
    "# Plot the clusters\n",
    "plt.figure(figsize=(8, 6))\n",
    "for i in range(k):\n",
    "    cluster_points = X[clusters == i]\n",
    "    plt.scatter(cluster_points[:, 0], cluster_points[:, 1], label=f'Cluster {i+1}')\n",
    "\n",
    "plt.scatter(kmeans.cluster_centers_[:, 0], kmeans.cluster_centers_[:, 1], marker='*', s=300, c='black', label='Centroids')\n",
    "plt.title('K-means Clustering')\n",
    "plt.xlabel('Feature 1')\n",
    "plt.ylabel('Feature 2')\n",
    "plt.legend()\n",
    "plt.grid(True)\n",
    "plt.show()"
   ]
  },
  {
   "cell_type": "code",
   "execution_count": 54,
   "id": "6731658b-f122-4889-98b0-b117f373d84c",
   "metadata": {},
   "outputs": [
    {
     "data": {
      "text/plain": [
       "'Step 5: Evaluation'"
      ]
     },
     "execution_count": 54,
     "metadata": {},
     "output_type": "execute_result"
    }
   ],
   "source": [
    "'Step 5: Evaluation'"
   ]
  },
  {
   "cell_type": "code",
   "execution_count": 271,
   "id": "ccf213c6-3552-47a3-af59-d47f77a78725",
   "metadata": {},
   "outputs": [
    {
     "name": "stdout",
     "output_type": "stream",
     "text": [
      "Adjusted Rand Index: 0.12304186416797565\n"
     ]
    }
   ],
   "source": [
    "# Compute adjusted Rand index\n",
    "ari = adjusted_rand_score(y, clusters)\n",
    "print(\"Adjusted Rand Index:\", ari)"
   ]
  },
  {
   "cell_type": "code",
   "execution_count": 272,
   "id": "37ce3eac-1d33-4e2c-831b-26c4ab34fc38",
   "metadata": {},
   "outputs": [
    {
     "name": "stdout",
     "output_type": "stream",
     "text": [
      "Adjusted Mutual Information: 0.09410550543030202\n"
     ]
    }
   ],
   "source": [
    "\n",
    "# Compute adjusted mutual information\n",
    "ami = adjusted_mutual_info_score(y, clusters)\n",
    "print(\"Adjusted Mutual Information:\", ami)\n"
   ]
  },
  {
   "cell_type": "code",
   "execution_count": 273,
   "id": "2a99bca0-51a1-4628-8d65-fbc0bc6b1dd8",
   "metadata": {},
   "outputs": [
    {
     "name": "stdout",
     "output_type": "stream",
     "text": [
      "Silhouette Score: 0.08728761954261392\n"
     ]
    }
   ],
   "source": [
    "# Compute silhouette score\n",
    "silhouette_avg = silhouette_score(X, clusters)\n",
    "print(\"Silhouette Score:\", silhouette_avg)"
   ]
  },
  {
   "cell_type": "code",
   "execution_count": 274,
   "id": "945aef45-2ab0-482c-a0ef-3654a45eafc1",
   "metadata": {},
   "outputs": [
    {
     "name": "stdout",
     "output_type": "stream",
     "text": [
      "Accuracy: 0.1949685534591195\n"
     ]
    }
   ],
   "source": [
    "# Compute accuracy\n",
    "accuracy = accuracy_score(y, clusters)\n",
    "print(\"Accuracy:\", accuracy)"
   ]
  },
  {
   "cell_type": "code",
   "execution_count": null,
   "id": "3a3a73c7-8afe-4880-8b63-661860cd4266",
   "metadata": {},
   "outputs": [],
   "source": []
  },
  {
   "cell_type": "code",
   "execution_count": null,
   "id": "ef39bdfa-7091-4c43-aab5-bc6ac1c76b31",
   "metadata": {},
   "outputs": [],
   "source": []
  },
  {
   "cell_type": "code",
   "execution_count": null,
   "id": "8c06e404-1bc1-4cb3-982b-191a1d29b5c6",
   "metadata": {},
   "outputs": [],
   "source": []
  },
  {
   "cell_type": "code",
   "execution_count": null,
   "id": "2714e37d-d2aa-460a-b14e-27a10314f03b",
   "metadata": {},
   "outputs": [],
   "source": []
  },
  {
   "cell_type": "code",
   "execution_count": null,
   "id": "57cf6985-4080-4594-bc16-970d9b2c123e",
   "metadata": {},
   "outputs": [],
   "source": []
  },
  {
   "cell_type": "code",
   "execution_count": 140,
   "id": "be036dd1-4991-4fdc-aa24-8834bc2f67f9",
   "metadata": {},
   "outputs": [],
   "source": []
  },
  {
   "cell_type": "code",
   "execution_count": null,
   "id": "34142dcc-e481-42bb-9234-b05818aa4ca4",
   "metadata": {},
   "outputs": [],
   "source": []
  },
  {
   "cell_type": "code",
   "execution_count": null,
   "id": "104df7ea-2114-4071-b6f3-9b4e0999e5c0",
   "metadata": {},
   "outputs": [],
   "source": []
  },
  {
   "cell_type": "code",
   "execution_count": null,
   "id": "e1649d9f-6f38-435e-afb6-dda2d099186f",
   "metadata": {},
   "outputs": [],
   "source": []
  },
  {
   "cell_type": "code",
   "execution_count": null,
   "id": "2fc5f5d2-34f1-4eaf-b96e-db2515e24198",
   "metadata": {},
   "outputs": [],
   "source": []
  },
  {
   "cell_type": "code",
   "execution_count": null,
   "id": "5ac3d174-63ec-4b93-8145-ff221f6ea3e9",
   "metadata": {},
   "outputs": [],
   "source": []
  },
  {
   "cell_type": "code",
   "execution_count": null,
   "id": "a958b7cb-cd69-4889-aba6-198d828e58c8",
   "metadata": {},
   "outputs": [],
   "source": []
  },
  {
   "cell_type": "code",
   "execution_count": null,
   "id": "8d72008a-e2af-4546-8ab0-48284dc28c01",
   "metadata": {},
   "outputs": [],
   "source": []
  },
  {
   "cell_type": "code",
   "execution_count": null,
   "id": "4cb33deb-fb05-48a4-9ebc-740cf50de4a7",
   "metadata": {},
   "outputs": [],
   "source": []
  },
  {
   "cell_type": "code",
   "execution_count": null,
   "id": "37e243fb-c27a-46f2-af16-0970c1acede0",
   "metadata": {},
   "outputs": [],
   "source": []
  },
  {
   "cell_type": "code",
   "execution_count": null,
   "id": "8a5f35a6-7e16-4239-ab49-5a5f5e221bbc",
   "metadata": {},
   "outputs": [],
   "source": []
  },
  {
   "cell_type": "code",
   "execution_count": null,
   "id": "0e6800c0-26f0-42f2-9666-a68e88bee7fe",
   "metadata": {},
   "outputs": [],
   "source": []
  },
  {
   "cell_type": "code",
   "execution_count": null,
   "id": "00e1f75e-2252-42a2-97b7-ecd6620b3d31",
   "metadata": {},
   "outputs": [],
   "source": []
  },
  {
   "cell_type": "code",
   "execution_count": null,
   "id": "573f8ffc-53f9-4f0c-b53f-6aa003a9e531",
   "metadata": {},
   "outputs": [],
   "source": []
  },
  {
   "cell_type": "code",
   "execution_count": null,
   "id": "df395002-f059-4d1d-afe9-2e6237537fb7",
   "metadata": {},
   "outputs": [],
   "source": []
  }
 ],
 "metadata": {
  "kernelspec": {
   "display_name": "Python 3 (ipykernel)",
   "language": "python",
   "name": "python3"
  },
  "language_info": {
   "codemirror_mode": {
    "name": "ipython",
    "version": 3
   },
   "file_extension": ".py",
   "mimetype": "text/x-python",
   "name": "python",
   "nbconvert_exporter": "python",
   "pygments_lexer": "ipython3",
   "version": "3.9.18"
  }
 },
 "nbformat": 4,
 "nbformat_minor": 5
}
