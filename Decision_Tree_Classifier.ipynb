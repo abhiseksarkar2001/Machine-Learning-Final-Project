{
  "nbformat": 4,
  "nbformat_minor": 0,
  "metadata": {
    "colab": {
      "provenance": []
    },
    "kernelspec": {
      "name": "python3",
      "display_name": "Python 3"
    },
    "language_info": {
      "name": "python"
    }
  },
  "cells": [
    {
      "cell_type": "markdown",
      "source": [
        "# Decision Tree Classifier"
      ],
      "metadata": {
        "id": "C3_17RpdOvVF"
      }
    },
    {
      "cell_type": "markdown",
      "source": [
        "## Importing necessery libraries"
      ],
      "metadata": {
        "id": "FGm6lCv9Bqwd"
      }
    },
    {
      "cell_type": "code",
      "source": [
        "from google.colab import drive\n",
        "drive.mount('/content/drive')"
      ],
      "metadata": {
        "id": "GKu_fb3fv1ig",
        "colab": {
          "base_uri": "https://localhost:8080/"
        },
        "outputId": "525c4b4f-231c-43b4-a728-50060b35f265"
      },
      "execution_count": null,
      "outputs": [
        {
          "output_type": "stream",
          "name": "stdout",
          "text": [
            "Mounted at /content/drive\n"
          ]
        }
      ]
    },
    {
      "cell_type": "code",
      "execution_count": null,
      "metadata": {
        "id": "3GNM3LF-uHGz"
      },
      "outputs": [],
      "source": [
        "from sklearn.tree import DecisionTreeClassifier\n",
        "from sklearn.metrics import accuracy_score\n",
        "from scipy.io import arff\n",
        "import pandas as pd"
      ]
    },
    {
      "cell_type": "markdown",
      "source": [
        "## Loading Data"
      ],
      "metadata": {
        "id": "TxZjf4eUB4TJ"
      }
    },
    {
      "cell_type": "code",
      "source": [
        "HouseTwenty_train_f = \"/content/drive/MyDrive/ML/HouseTwenty_TRAIN.arff\"\n",
        "# Link: https://drive.google.com/file/d/1n92tqVcv7D5RJm3UhjjGWJoYV1xy81Wc/view?usp=sharing\n",
        "HouseTwenty_test_f = \"/content/drive/MyDrive/ML/HouseTwenty_TEST.arff\""
      ],
      "metadata": {
        "id": "hC-7g8q6ODdU"
      },
      "execution_count": null,
      "outputs": []
    },
    {
      "cell_type": "code",
      "source": [
        "# Load Train Data .arff file\n",
        "train_data, train_meta = arff.loadarff(\"/content/drive/MyDrive/ML/HouseTwenty_TRAIN.arff\")\n",
        "train_df = pd.DataFrame(train_data)\n",
        "\n",
        "# Load test data from .arff file\n",
        "test_data, test_meta = arff.loadarff(\"/content/drive/MyDrive/ML/HouseTwenty_TEST.arff\")\n",
        "test_df = pd.DataFrame(test_data)"
      ],
      "metadata": {
        "id": "JQZ-eK-nKSKE"
      },
      "execution_count": null,
      "outputs": []
    },
    {
      "cell_type": "markdown",
      "source": [
        "## Main"
      ],
      "metadata": {
        "id": "whqILLWAOkzD"
      }
    },
    {
      "cell_type": "code",
      "source": [
        "# Assuming your target variable is named 'target'\n",
        "X_train = train_df.drop('target', axis=1)\n",
        "y_train = train_df['target']\n",
        "\n",
        "X_test = test_df.drop('target', axis=1)\n",
        "y_test = test_df['target']\n",
        "\n",
        "# Initialize the decision tree classifier\n",
        "clf = DecisionTreeClassifier()\n",
        "\n",
        "# Train the classifier on the training data\n",
        "clf.fit(X_train, y_train)\n",
        "\n",
        "# Make predictions on the test data\n",
        "y_pred = clf.predict(X_test)\n",
        "\n",
        "# Evaluate the accuracy of the classifier\n",
        "accuracy = accuracy_score(y_test, y_pred)\n",
        "print(\"Accuracy:\", accuracy)"
      ],
      "metadata": {
        "id": "OsGXnwA0K3F2"
      },
      "execution_count": null,
      "outputs": []
    }
  ]
}